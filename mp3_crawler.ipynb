{
 "cells": [
  {
   "cell_type": "markdown",
   "metadata": {},
   "source": [
    "# Music Metadata Crawler"
   ]
  },
  {
   "cell_type": "markdown",
   "metadata": {},
   "source": [
    "## Imports and Functions"
   ]
  },
  {
   "cell_type": "markdown",
   "metadata": {},
   "source": [
    "### Imports"
   ]
  },
  {
   "cell_type": "code",
   "execution_count": 15,
   "metadata": {},
   "outputs": [],
   "source": [
    "import pandas as pd\n",
    "import mutagen"
   ]
  },
  {
   "cell_type": "markdown",
   "metadata": {},
   "source": [
    "### Functions"
   ]
  },
  {
   "cell_type": "markdown",
   "metadata": {},
   "source": [
    "#### audio_crawler"
   ]
  },
  {
   "cell_type": "code",
   "execution_count": 16,
   "metadata": {},
   "outputs": [],
   "source": [
    "def audio_crawler(mainPath, fileTypes):\n",
    "\n",
    "    filePaths = []\n",
    "    for root, subDirs, files in os.walk(mainPath):\n",
    "        for file in files:\n",
    "            for fileType in fileTypes:\n",
    "                if file.endswith(fileType):\n",
    "                    filePaths.append(os.path.join(root, file))\n",
    "                    \n",
    "    filePaths = pd.Series(filePaths, name = 'filePath')\n",
    "                    \n",
    "    return filePaths"
   ]
  },
  {
   "cell_type": "markdown",
   "metadata": {},
   "source": [
    "#### compile_metadata"
   ]
  },
  {
   "cell_type": "code",
   "execution_count": 17,
   "metadata": {},
   "outputs": [],
   "source": [
    "def compile_metadata(filePaths):\n",
    "\n",
    "    artist = []\n",
    "    album = []\n",
    "    title = []\n",
    "\n",
    "    for filePath in filePaths:\n",
    "\n",
    "        metadata = pd.Series(mutagen.File(filePath), dtype='object')\n",
    "\n",
    "        if filePath.endswith('.mp3'):\n",
    "            try:\n",
    "                title.append(metadata['TIT2'].text[0])\n",
    "            except:\n",
    "                title.append('')\n",
    "            try:\n",
    "                album.append(metadata['TALB'].text[0])\n",
    "            except:\n",
    "                album.append('')\n",
    "            try:\n",
    "                artist.append(metadata['TPE1'].text[0])\n",
    "            except:\n",
    "                artist.append('')\n",
    "        elif filePath.endswith('.wma'):\n",
    "            print('wma not implemented yet')\n",
    "        elif filePath.endswith('.m4a'):\n",
    "            try:\n",
    "                title.append(metadata['©nam'][0])\n",
    "            except:\n",
    "                title.append('')\n",
    "            try:\n",
    "                album.append(metadata['©alb'][0])\n",
    "            except:\n",
    "                album.append('')\n",
    "            try:\n",
    "                artist.append(metadata['©ART'][0])\n",
    "            except:\n",
    "                artist.append('')\n",
    "        elif filePath.endswith('.flac'):\n",
    "            print('flac not implemented yet')\n",
    "        elif filePath.endswith('.mp4'):\n",
    "            try:\n",
    "                title.append(metadata['©nam'][0])\n",
    "            except:\n",
    "                title.append('')\n",
    "            try:\n",
    "                album.append(metadata['©alb'][0])\n",
    "            except:\n",
    "                album.append('')\n",
    "            try:\n",
    "                artist.append(metadata['©ART'][0])\n",
    "            except:\n",
    "                artist.append('')\n",
    "        elif filePath.endswith('.wav'):\n",
    "            artist.append('')\n",
    "            title.append(filePath)\n",
    "            album.append('')\n",
    "        elif filePath.endswith('.aac'):\n",
    "            print('aac not implemented yet')\n",
    "        elif filePath.endswith('.ogg'):\n",
    "            print('oog not implemented yet')\n",
    "\n",
    "    df = pd.DataFrame(\n",
    "        {\n",
    "            'artist': artist,\n",
    "            'album': album,\n",
    "            'title': title,\n",
    "            'filePath': filePaths\n",
    "        }\n",
    "    )\n",
    "    df.sort_values(by='artist')\n",
    "\n",
    "    return df"
   ]
  },
  {
   "cell_type": "markdown",
   "metadata": {},
   "source": [
    "## Settings"
   ]
  },
  {
   "cell_type": "code",
   "execution_count": 18,
   "metadata": {},
   "outputs": [],
   "source": [
    "mainPath = r'desktop\\music'\n",
    "fileTypes = ['.mp3', '.wma', '.m4a', '.flac', '.mp4', '.wav', '.aac', '.ogg']\n",
    "saveAs = 'output.csv' "
   ]
  },
  {
   "cell_type": "markdown",
   "metadata": {},
   "source": [
    "## Script"
   ]
  },
  {
   "cell_type": "code",
   "execution_count": 19,
   "metadata": {},
   "outputs": [],
   "source": [
    "filePaths = audio_crawler(mainPath, fileTypes)\n",
    "output = compile_metadata(filePaths)\n",
    "output.to_csv(saveAs, index=False)"
   ]
  }
 ],
 "metadata": {
  "kernelspec": {
   "display_name": "Python 3.10.5 ('py310')",
   "language": "python",
   "name": "python3"
  },
  "language_info": {
   "codemirror_mode": {
    "name": "ipython",
    "version": 3
   },
   "file_extension": ".py",
   "mimetype": "text/x-python",
   "name": "python",
   "nbconvert_exporter": "python",
   "pygments_lexer": "ipython3",
   "version": "3.10.5"
  },
  "orig_nbformat": 4,
  "vscode": {
   "interpreter": {
    "hash": "7f9b3215972d32dbf2388959fa6798154c5d05e2064c5aa10cdb6c4dea3a6137"
   }
  }
 },
 "nbformat": 4,
 "nbformat_minor": 2
}
